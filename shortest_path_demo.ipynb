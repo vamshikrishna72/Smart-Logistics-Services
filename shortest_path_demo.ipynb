{
 "cells": [
  {
   "cell_type": "markdown",
   "metadata": {},
   "source": [
    "# Logistics Shortest Path Demo\n",
    "This notebook demonstrates the shortest path finding functionality using interactive maps."
   ]
  },
  {
   "cell_type": "code",
   "execution_count": 7,
   "metadata": {},
   "outputs": [],
   "source": [
    "# Import required libraries\n",
    "import folium\n",
    "from ipyleaflet import Map, Marker, Polyline\n",
    "from geopy.distance import geodesic\n",
    "import networkx as nx\n",
    "import ipywidgets as widgets\n",
    "from IPython.display import display, clear_output\n",
    "import json\n",
    "\n",
    "# Import our custom route optimizer\n",
    "from route_optimizer import RouteOptimizer"
   ]
  },
  {
   "cell_type": "code",
   "execution_count": 8,
   "metadata": {},
   "outputs": [],
   "source": [
    "class InteractiveMapOptimizer:\n",
    "    def __init__(self):\n",
    "        self.optimizer = RouteOptimizer()\n",
    "        self.points = []\n",
    "        self.setup_ui()\n",
    "    \n",
    "    def setup_ui(self):\n",
    "        # Create input fields\n",
    "        self.name_input = widgets.Text(description='Location Name:', value='Point 1')\n",
    "        self.lat_input = widgets.FloatText(description='Latitude:', value=17.3850)\n",
    "        self.lon_input = widgets.FloatText(description='Longitude:', value=78.4867)\n",
    "        \n",
    "        # Create buttons\n",
    "        self.add_button = widgets.Button(description='Add Point', button_style='primary')\n",
    "        self.find_path_button = widgets.Button(description='Find Path', button_style='success')\n",
    "        \n",
    "        # Create dropdowns for start and end points\n",
    "        self.start_point = widgets.Dropdown(description='Start:', options=[])\n",
    "        self.end_point = widgets.Dropdown(description='End:', options=[])\n",
    "        \n",
    "        # Create map\n",
    "        self.map = Map(center=(17.3850, 78.4867), zoom=10)\n",
    "        \n",
    "        # Create output area\n",
    "        self.output = widgets.Output()\n",
    "        \n",
    "        # Set up event handlers\n",
    "        self.add_button.on_click(self.add_point)\n",
    "        self.find_path_button.on_click(self.find_path)\n",
    "        \n",
    "        # Create layout\n",
    "        inputs = widgets.VBox([\n",
    "            self.name_input,\n",
    "            self.lat_input,\n",
    "            self.lon_input,\n",
    "            widgets.HBox([self.add_button]),\n",
    "            widgets.HBox([self.start_point, self.end_point]),\n",
    "            self.find_path_button\n",
    "        ])\n",
    "        \n",
    "        # Display everything\n",
    "        display(inputs)\n",
    "        display(self.map)\n",
    "        display(self.output)\n",
    "    \n",
    "    def add_point(self, b):\n",
    "        name = self.name_input.value\n",
    "        lat = self.lat_input.value\n",
    "        lon = self.lon_input.value\n",
    "        \n",
    "        # Add to optimizer\n",
    "        self.optimizer.add_location(name, lat, lon)\n",
    "        self.points.append(name)\n",
    "        \n",
    "        # Add marker to map\n",
    "        marker = Marker(location=(lat, lon), draggable=False, title=name)\n",
    "        self.map.add_layer(marker)\n",
    "        \n",
    "        # Update dropdowns\n",
    "        self.start_point.options = self.points\n",
    "        self.end_point.options = self.points\n",
    "        \n",
    "        # Update next point name\n",
    "        self.name_input.value = f'Point {len(self.points) + 1}'\n",
    "        \n",
    "        with self.output:\n",
    "            clear_output()\n",
    "            print(f'Added {name} at ({lat}, {lon})')\n",
    "    \n",
    "    def find_path(self, b):\n",
    "        start = self.start_point.value\n",
    "        end = self.end_point.value\n",
    "        \n",
    "        if not start or not end:\n",
    "            with self.output:\n",
    "                clear_output()\n",
    "                print('Please select both start and end points')\n",
    "            return\n",
    "        \n",
    "        # Build distance matrix\n",
    "        self.optimizer.build_distance_matrix()\n",
    "        \n",
    "        # Find shortest path\n",
    "        path, distance = self.optimizer.find_shortest_path(start, end)\n",
    "        \n",
    "        if path:\n",
    "            # Create path coordinates\n",
    "            path_coords = [(self.optimizer.locations[p][0], self.optimizer.locations[p][1]) for p in path]\n",
    "            \n",
    "            # Draw path on map\n",
    "            line = Polyline(\n",
    "                locations=path_coords,\n",
    "                color='red',\n",
    "                fill=False\n",
    "            )\n",
    "            self.map.add_layer(line)\n",
    "            \n",
    "            with self.output:\n",
    "                clear_output()\n",
    "                print(f'Shortest path: {\" -> \".join(path)}')\n",
    "                print(f'Total distance: {distance:.2f} km')\n",
    "        else:\n",
    "            with self.output:\n",
    "                clear_output()\n",
    "                print('No path found between selected points')"
   ]
  },
  {
   "cell_type": "code",
   "execution_count": 9,
   "metadata": {},
   "outputs": [
    {
     "data": {
      "application/vnd.jupyter.widget-view+json": {
       "model_id": "f9875452037f4aebb195e96ab1dc1cce",
       "version_major": 2,
       "version_minor": 0
      },
      "text/plain": [
       "VBox(children=(Text(value='Point 1', description='Location Name:'), FloatText(value=17.385, description='Latit…"
      ]
     },
     "metadata": {},
     "output_type": "display_data"
    },
    {
     "data": {
      "application/vnd.jupyter.widget-view+json": {
       "model_id": "ca7e17d4505943a4af7f0cf6a10ab75e",
       "version_major": 2,
       "version_minor": 0
      },
      "text/plain": [
       "Map(center=[17.385, 78.4867], controls=(ZoomControl(options=['position', 'zoom_in_text', 'zoom_in_title', 'zoo…"
      ]
     },
     "metadata": {},
     "output_type": "display_data"
    },
    {
     "data": {
      "application/vnd.jupyter.widget-view+json": {
       "model_id": "24ca532363744efc90034119dc67e060",
       "version_major": 2,
       "version_minor": 0
      },
      "text/plain": [
       "Output()"
      ]
     },
     "metadata": {},
     "output_type": "display_data"
    }
   ],
   "source": [
    "# Create and display the interactive map optimizer\n",
    "optimizer = InteractiveMapOptimizer()"
   ]
  },
  {
   "cell_type": "code",
   "execution_count": null,
   "metadata": {},
   "outputs": [],
   "source": []
  }
 ],
 "metadata": {
  "kernelspec": {
   "display_name": "Python 3 (ipykernel)",
   "language": "python",
   "name": "python3"
  },
  "language_info": {
   "codemirror_mode": {
    "name": "ipython",
    "version": 3
   },
   "file_extension": ".py",
   "mimetype": "text/x-python",
   "name": "python",
   "nbconvert_exporter": "python",
   "pygments_lexer": "ipython3",
   "version": "3.12.8"
  }
 },
 "nbformat": 4,
 "nbformat_minor": 4
}
