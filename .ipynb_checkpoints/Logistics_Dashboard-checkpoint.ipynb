{
 "cells": [
  {
   "cell_type": "markdown",
   "metadata": {},
   "source": [
    "# Smart Logistics Dashboard\n",
    "\n",
    "## Setup Instructions\n",
    "1. Run the first cell to set up the environment\n",
    "2. Run the second cell to generate sample data\n",
    "3. Run the third cell to launch the dashboard\n",
    "\n",
    "The dashboard includes:\n",
    "- Route optimization\n",
    "- Container tracking\n",
    "- Analytics and reporting\n",
    "- Interactive maps"
   ]
  },
  {
   "cell_type": "code",
   "execution_count": null,
   "metadata": {},
   "source": [
    "from notebook_setup import setup_environment, setup_notebook_styling\n",
    "from IPython.display import HTML, display\n",
    "\n",
    "# Set up the environment\n",
    "setup_environment()\n",
    "\n",
    "# Apply custom styling\n",
    "display(HTML(setup_notebook_styling()))"
   ]
  },
  {
   "cell_type": "code",
   "execution_count": null,
   "metadata": {},
   "source": [
    "# Generate sample logistics data\n",
    "%run sample_data.py\n",
    "print(\"Sample data generated successfully!\")"
   ]
  },
  {
   "cell_type": "code",
   "execution_count": null,
   "metadata": {},
   "source": [
    "# Launch the dashboard\n",
    "from enhanced_logistics import EnhancedLogisticsOptimizer\n",
    "\n",
    "# Create and display the dashboard\n",
    "optimizer = EnhancedLogisticsOptimizer()\n",
    "optimizer.setup_ui()"
   ]
  },
  {
   "cell_type": "markdown",
   "metadata": {},
   "source": [
    "## Sample Test Locations\n",
    "\n",
    "Use these coordinates to test the route optimization:\n",
    "\n",
    "### Major Cities\n",
    "- Mumbai: 19.0760, 72.8777\n",
    "- Delhi: 28.6139, 77.2090\n",
    "- Bangalore: 12.9716, 77.5946\n",
    "- Chennai: 13.0827, 80.2707\n",
    "- Hyderabad: 17.3850, 78.4867\n",
    "\n",
    "### Major Ports\n",
    "- JNPT Mumbai: 18.9490, 72.9525\n",
    "- Chennai Port: 13.0827, 80.2707\n",
    "- Vizag Port: 17.6868, 83.2185\n",
    "\n",
    "## Quick Guide\n",
    "\n",
    "1. **Route Optimization**:\n",
    "   - Enter coordinates from the sample locations\n",
    "   - Add weight and container type\n",
    "   - Click 'Add Point' for each location\n",
    "   - Click 'Optimize Routes' to see results\n",
    "\n",
    "2. **Container Tracking**:\n",
    "   - Use the search box to find containers\n",
    "   - Filter by status (In Transit, Loading, etc.)\n",
    "   - Click on map markers for details\n",
    "\n",
    "3. **Analytics**:\n",
    "   - View cost distribution charts\n",
    "   - Analyze transport mode usage\n",
    "   - Monitor performance metrics"
   ]
  }
 ],
 "metadata": {
  "kernelspec": {
   "display_name": "Python 3",
   "language": "python",
   "name": "python3"
  },
  "language_info": {
   "codemirror_mode": {
    "name": "ipython",
    "version": 3
   },
   "file_extension": ".py",
   "mimetype": "text/x-python",
   "name": "python",
   "nbconvert_exporter": "python",
   "pygments_lexer": "ipython3",
   "version": "3.8.0"
  }
 },
 "nbformat": 4,
 "nbformat_minor": 4
}
