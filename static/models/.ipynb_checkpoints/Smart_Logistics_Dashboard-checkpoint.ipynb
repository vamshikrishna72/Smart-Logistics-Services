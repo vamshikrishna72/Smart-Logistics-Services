{
 "cells": [
  {
   "cell_type": "markdown",
   "metadata": {},
   "source": [
    "# Smart Logistics Dashboard\n",
    "An advanced logistics management and optimization system"
   ]
  },
  {
   "cell_type": "code",
   "execution_count": null,
   "metadata": {},
   "source": [
    "# Install required packages\n",
    "!pip install -r requirements_updated.txt"
   ]
  },
  {
   "cell_type": "code",
   "execution_count": null,
   "metadata": {},
   "source": [
    "# Generate sample data\n",
    "%run sample_data.py"
   ]
  },
  {
   "cell_type": "code",
   "execution_count": null,
   "metadata": {},
   "source": [
    "from enhanced_logistics import EnhancedLogisticsOptimizer\n",
    "import ipywidgets as widgets\n",
    "from IPython.display import display, HTML\n",
    "\n",
    "# Add custom styling\n",
    "display(HTML(\"\"\"\n",
    "<style>\n",
    "    .widget-tab > .widget-tab-contents {\n",
    "        padding: 20px;\n",
    "    }\n",
    "    .widget-tab {\n",
    "        border-radius: 10px;\n",
    "        box-shadow: 0 4px 6px rgba(0, 0, 0, 0.1);\n",
    "        margin: 10px;\n",
    "    }\n",
    "    .jupyter-widgets-output-area {\n",
    "        padding: 10px;\n",
    "    }\n",
    "    .widget-button {\n",
    "        border-radius: 8px !important;\n",
    "        text-transform: uppercase;\n",
    "        font-weight: 600;\n",
    "        letter-spacing: 0.5px;\n",
    "    }\n",
    "    .widget-text, .widget-dropdown {\n",
    "        border-radius: 8px !important;\n",
    "    }\n",
    "</style>\n",
    "\"\"\"))\n",
    "\n",
    "# Create and display the optimizer\n",
    "optimizer = EnhancedLogisticsOptimizer()\n",
    "optimizer.setup_ui()"
   ]
  },
  {
   "cell_type": "markdown",
   "metadata": {},
   "source": [
    "## Sample Locations for Testing\n",
    "\n",
    "### Major Cities\n",
    "1. Mumbai: (19.0760, 72.8777)\n",
    "2. Delhi: (28.6139, 77.2090)\n",
    "3. Bangalore: (12.9716, 77.5946)\n",
    "4. Chennai: (13.0827, 80.2707)\n",
    "5. Hyderabad: (17.3850, 78.4867)\n",
    "\n",
    "### Major Ports\n",
    "1. JNPT Mumbai: (18.9490, 72.9525)\n",
    "2. Chennai Port: (13.0827, 80.2707)\n",
    "3. Kolkata Port: (22.5726, 88.3639)\n",
    "4. Vizag Port: (17.6868, 83.2185)\n",
    "\n",
    "### Airports\n",
    "1. Delhi Airport: (28.5562, 77.1000)\n",
    "2. Mumbai Airport: (19.0896, 72.8656)\n",
    "3. Bangalore Airport: (13.1986, 77.7066)"
   ]
  }
 ],
 "metadata": {
  "kernelspec": {
   "display_name": "Python 3",
   "language": "python",
   "name": "python3"
  },
  "language_info": {
   "codemirror_mode": {
    "name": "ipython",
    "version": 3
   },
   "file_extension": ".py",
   "mimetype": "text/x-python",
   "name": "python",
   "nbconvert_exporter": "python",
   "pygments_lexer": "ipython3",
   "version": "3.8.0"
  }
 },
 "nbformat": 4,
 "nbformat_minor": 4
}
