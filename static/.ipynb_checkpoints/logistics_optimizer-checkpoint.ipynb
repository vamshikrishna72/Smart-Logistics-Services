{
 "cells": [
  {
   "cell_type": "markdown",
   "metadata": {},
   "source": [
    "# Smart Logistics Optimizer\n",
    "An interactive system for optimizing delivery routes and logistics operations."
   ]
  },
  {
   "cell_type": "code",
   "execution_count": 2,
   "metadata": {},
   "outputs": [
    {
     "name": "stdout",
     "output_type": "stream",
     "text": [
      "Requirement already satisfied: numpy in c:\\users\\vamsh\\miniconda3\\lib\\site-packages (2.2.4)\n",
      "Requirement already satisfied: pandas in c:\\users\\vamsh\\miniconda3\\lib\\site-packages (2.2.3)\n",
      "Requirement already satisfied: scikit-learn in c:\\users\\vamsh\\miniconda3\\lib\\site-packages (1.6.1)\n",
      "Requirement already satisfied: folium in c:\\users\\vamsh\\miniconda3\\lib\\site-packages (0.14.0)\n",
      "Requirement already satisfied: ipywidgets in c:\\users\\vamsh\\miniconda3\\lib\\site-packages (8.0.6)\n",
      "Requirement already satisfied: geopy in c:\\users\\vamsh\\miniconda3\\lib\\site-packages (2.3.0)\n",
      "Requirement already satisfied: ipyleaflet in c:\\users\\vamsh\\miniconda3\\lib\\site-packages (0.17.2)\n",
      "Requirement already satisfied: python-dateutil>=2.8.2 in c:\\users\\vamsh\\miniconda3\\lib\\site-packages (from pandas) (2.9.0.post0)\n",
      "Requirement already satisfied: pytz>=2020.1 in c:\\users\\vamsh\\miniconda3\\lib\\site-packages (from pandas) (2025.1)\n",
      "Requirement already satisfied: tzdata>=2022.7 in c:\\users\\vamsh\\miniconda3\\lib\\site-packages (from pandas) (2025.2)\n",
      "Requirement already satisfied: scipy>=1.6.0 in c:\\users\\vamsh\\miniconda3\\lib\\site-packages (from scikit-learn) (1.15.2)\n",
      "Requirement already satisfied: joblib>=1.2.0 in c:\\users\\vamsh\\miniconda3\\lib\\site-packages (from scikit-learn) (1.4.2)\n",
      "Requirement already satisfied: threadpoolctl>=3.1.0 in c:\\users\\vamsh\\miniconda3\\lib\\site-packages (from scikit-learn) (3.6.0)\n",
      "Requirement already satisfied: branca>=0.6.0 in c:\\users\\vamsh\\miniconda3\\lib\\site-packages (from folium) (0.8.1)\n",
      "Requirement already satisfied: jinja2>=2.9 in c:\\users\\vamsh\\miniconda3\\lib\\site-packages (from folium) (3.1.6)\n",
      "Requirement already satisfied: requests in c:\\users\\vamsh\\miniconda3\\lib\\site-packages (from folium) (2.32.3)\n",
      "Requirement already satisfied: ipykernel>=4.5.1 in c:\\users\\vamsh\\miniconda3\\lib\\site-packages (from ipywidgets) (6.29.5)\n",
      "Requirement already satisfied: ipython>=6.1.0 in c:\\users\\vamsh\\miniconda3\\lib\\site-packages (from ipywidgets) (9.0.2)\n",
      "Requirement already satisfied: traitlets>=4.3.1 in c:\\users\\vamsh\\miniconda3\\lib\\site-packages (from ipywidgets) (5.14.3)\n",
      "Requirement already satisfied: widgetsnbextension~=4.0.7 in c:\\users\\vamsh\\miniconda3\\lib\\site-packages (from ipywidgets) (4.0.13)\n",
      "Requirement already satisfied: jupyterlab-widgets~=3.0.7 in c:\\users\\vamsh\\miniconda3\\lib\\site-packages (from ipywidgets) (3.0.13)\n",
      "Requirement already satisfied: geographiclib<3,>=1.52 in c:\\users\\vamsh\\miniconda3\\lib\\site-packages (from geopy) (2.0)\n",
      "Requirement already satisfied: traittypes<3,>=0.2.1 in c:\\users\\vamsh\\miniconda3\\lib\\site-packages (from ipyleaflet) (0.2.1)\n",
      "Requirement already satisfied: xyzservices>=2021.8.1 in c:\\users\\vamsh\\miniconda3\\lib\\site-packages (from ipyleaflet) (2025.1.0)\n",
      "Requirement already satisfied: comm>=0.1.1 in c:\\users\\vamsh\\miniconda3\\lib\\site-packages (from ipykernel>=4.5.1->ipywidgets) (0.2.2)\n",
      "Requirement already satisfied: debugpy>=1.6.5 in c:\\users\\vamsh\\miniconda3\\lib\\site-packages (from ipykernel>=4.5.1->ipywidgets) (1.8.13)\n",
      "Requirement already satisfied: jupyter-client>=6.1.12 in c:\\users\\vamsh\\miniconda3\\lib\\site-packages (from ipykernel>=4.5.1->ipywidgets) (8.6.3)\n",
      "Requirement already satisfied: jupyter-core!=5.0.*,>=4.12 in c:\\users\\vamsh\\miniconda3\\lib\\site-packages (from ipykernel>=4.5.1->ipywidgets) (5.7.2)\n",
      "Requirement already satisfied: matplotlib-inline>=0.1 in c:\\users\\vamsh\\miniconda3\\lib\\site-packages (from ipykernel>=4.5.1->ipywidgets) (0.1.7)\n",
      "Requirement already satisfied: nest-asyncio in c:\\users\\vamsh\\miniconda3\\lib\\site-packages (from ipykernel>=4.5.1->ipywidgets) (1.6.0)\n",
      "Requirement already satisfied: packaging in c:\\users\\vamsh\\miniconda3\\lib\\site-packages (from ipykernel>=4.5.1->ipywidgets) (24.1)\n",
      "Requirement already satisfied: psutil in c:\\users\\vamsh\\miniconda3\\lib\\site-packages (from ipykernel>=4.5.1->ipywidgets) (7.0.0)\n",
      "Requirement already satisfied: pyzmq>=24 in c:\\users\\vamsh\\miniconda3\\lib\\site-packages (from ipykernel>=4.5.1->ipywidgets) (26.3.0)\n",
      "Requirement already satisfied: tornado>=6.1 in c:\\users\\vamsh\\miniconda3\\lib\\site-packages (from ipykernel>=4.5.1->ipywidgets) (6.4.2)\n",
      "Requirement already satisfied: colorama in c:\\users\\vamsh\\miniconda3\\lib\\site-packages (from ipython>=6.1.0->ipywidgets) (0.4.6)\n",
      "Requirement already satisfied: decorator in c:\\users\\vamsh\\miniconda3\\lib\\site-packages (from ipython>=6.1.0->ipywidgets) (5.2.1)\n",
      "Requirement already satisfied: ipython-pygments-lexers in c:\\users\\vamsh\\miniconda3\\lib\\site-packages (from ipython>=6.1.0->ipywidgets) (1.1.1)\n",
      "Requirement already satisfied: jedi>=0.16 in c:\\users\\vamsh\\miniconda3\\lib\\site-packages (from ipython>=6.1.0->ipywidgets) (0.19.2)\n",
      "Requirement already satisfied: prompt_toolkit<3.1.0,>=3.0.41 in c:\\users\\vamsh\\miniconda3\\lib\\site-packages (from ipython>=6.1.0->ipywidgets) (3.0.50)\n",
      "Requirement already satisfied: pygments>=2.4.0 in c:\\users\\vamsh\\miniconda3\\lib\\site-packages (from ipython>=6.1.0->ipywidgets) (2.19.1)\n",
      "Requirement already satisfied: stack_data in c:\\users\\vamsh\\miniconda3\\lib\\site-packages (from ipython>=6.1.0->ipywidgets) (0.6.3)\n",
      "Requirement already satisfied: MarkupSafe>=2.0 in c:\\users\\vamsh\\miniconda3\\lib\\site-packages (from jinja2>=2.9->folium) (3.0.2)\n",
      "Requirement already satisfied: six>=1.5 in c:\\users\\vamsh\\miniconda3\\lib\\site-packages (from python-dateutil>=2.8.2->pandas) (1.17.0)\n",
      "Requirement already satisfied: charset-normalizer<4,>=2 in c:\\users\\vamsh\\miniconda3\\lib\\site-packages (from requests->folium) (3.3.2)\n",
      "Requirement already satisfied: idna<4,>=2.5 in c:\\users\\vamsh\\miniconda3\\lib\\site-packages (from requests->folium) (3.7)\n",
      "Requirement already satisfied: urllib3<3,>=1.21.1 in c:\\users\\vamsh\\miniconda3\\lib\\site-packages (from requests->folium) (2.2.3)\n",
      "Requirement already satisfied: certifi>=2017.4.17 in c:\\users\\vamsh\\miniconda3\\lib\\site-packages (from requests->folium) (2024.8.30)\n",
      "Requirement already satisfied: parso<0.9.0,>=0.8.4 in c:\\users\\vamsh\\miniconda3\\lib\\site-packages (from jedi>=0.16->ipython>=6.1.0->ipywidgets) (0.8.4)\n",
      "Requirement already satisfied: platformdirs>=2.5 in c:\\users\\vamsh\\miniconda3\\lib\\site-packages (from jupyter-core!=5.0.*,>=4.12->ipykernel>=4.5.1->ipywidgets) (3.10.0)\n",
      "Requirement already satisfied: pywin32>=300 in c:\\users\\vamsh\\miniconda3\\lib\\site-packages (from jupyter-core!=5.0.*,>=4.12->ipykernel>=4.5.1->ipywidgets) (309)\n",
      "Requirement already satisfied: wcwidth in c:\\users\\vamsh\\miniconda3\\lib\\site-packages (from prompt_toolkit<3.1.0,>=3.0.41->ipython>=6.1.0->ipywidgets) (0.2.13)\n",
      "Requirement already satisfied: executing>=1.2.0 in c:\\users\\vamsh\\miniconda3\\lib\\site-packages (from stack_data->ipython>=6.1.0->ipywidgets) (2.2.0)\n",
      "Requirement already satisfied: asttokens>=2.1.0 in c:\\users\\vamsh\\miniconda3\\lib\\site-packages (from stack_data->ipython>=6.1.0->ipywidgets) (3.0.0)\n",
      "Requirement already satisfied: pure-eval in c:\\users\\vamsh\\miniconda3\\lib\\site-packages (from stack_data->ipython>=6.1.0->ipywidgets) (0.2.3)\n"
     ]
    },
    {
     "name": "stderr",
     "output_type": "stream",
     "text": [
      "WARNING: Ignoring invalid distribution ~otebook (C:\\Users\\vamsh\\miniconda3\\Lib\\site-packages)\n",
      "WARNING: Ignoring invalid distribution ~otebook (C:\\Users\\vamsh\\miniconda3\\Lib\\site-packages)\n",
      "WARNING: Ignoring invalid distribution ~otebook (C:\\Users\\vamsh\\miniconda3\\Lib\\site-packages)\n"
     ]
    }
   ],
   "source": [
    "# Install required packages\n",
    "!pip install numpy pandas scikit-learn folium ipywidgets geopy ipyleaflet"
   ]
  },
  {
   "cell_type": "code",
   "execution_count": 3,
   "metadata": {},
   "outputs": [],
   "source": [
    "import numpy as np\n",
    "import pandas as pd\n",
    "from sklearn.cluster import KMeans\n",
    "from sklearn.preprocessing import StandardScaler\n",
    "from IPython.display import display, HTML, clear_output\n",
    "import ipywidgets as widgets\n",
    "from ipyleaflet import Map, Marker, Polyline, Icon\n",
    "from geopy.distance import geodesic\n",
    "import folium\n",
    "import json\n",
    "\n",
    "# Enable widgets\n",
    "from ipywidgets import Layout, Box, Label"
   ]
  },
  {
   "cell_type": "code",
   "execution_count": 4,
   "metadata": {},
   "outputs": [],
   "source": [
    "class LogisticsOptimizer:\n",
    "    def __init__(self):\n",
    "        self.scaler = StandardScaler()\n",
    "        self.kmeans = KMeans(n_clusters=5, random_state=42)\n",
    "        self.delivery_points = []\n",
    "        self.setup_ui()\n",
    "    \n",
    "    def setup_ui(self):\n",
    "        # Create input widgets\n",
    "        style = {'description_width': '100px'}\n",
    "        layout = Layout(width='300px')\n",
    "        \n",
    "        self.lat_input = widgets.FloatText(\n",
    "            description='Latitude:',\n",
    "            style=style,\n",
    "            layout=layout\n",
    "        )\n",
    "        \n",
    "        self.lng_input = widgets.FloatText(\n",
    "            description='Longitude:',\n",
    "            style=style,\n",
    "            layout=layout\n",
    "        )\n",
    "        \n",
    "        self.weight_input = widgets.FloatText(\n",
    "            description='Weight (kg):',\n",
    "            style=style,\n",
    "            layout=layout\n",
    "        )\n",
    "        \n",
    "        # Create buttons\n",
    "        self.add_button = widgets.Button(\n",
    "            description='Add Point',\n",
    "            button_style='primary',\n",
    "            layout=Layout(width='150px')\n",
    "        )\n",
    "        \n",
    "        self.optimize_button = widgets.Button(\n",
    "            description='Optimize Routes',\n",
    "            button_style='success',\n",
    "            layout=Layout(width='150px')\n",
    "        )\n",
    "        \n",
    "        self.clear_button = widgets.Button(\n",
    "            description='Clear All',\n",
    "            button_style='danger',\n",
    "            layout=Layout(width='150px')\n",
    "        )\n",
    "        \n",
    "        # Create output areas\n",
    "        self.points_output = widgets.Output()\n",
    "        self.results_output = widgets.Output()\n",
    "        \n",
    "        # Create map\n",
    "        self.map = Map(center=(20.5937, 78.9629), zoom=5)\n",
    "        \n",
    "        # Add event handlers\n",
    "        self.add_button.on_click(self.add_point)\n",
    "        self.optimize_button.on_click(self.optimize_routes)\n",
    "        self.clear_button.on_click(self.clear_all)\n",
    "        \n",
    "        # Layout the UI\n",
    "        input_box = Box([\n",
    "            self.lat_input, \n",
    "            self.lng_input, \n",
    "            self.weight_input,\n",
    "            widgets.HBox([self.add_button, self.optimize_button, self.clear_button])\n",
    "        ])\n",
    "        \n",
    "        display(HTML('<h3>Add Delivery Points</h3>'))\n",
    "        display(input_box)\n",
    "        display(HTML('<h3>Delivery Points</h3>'))\n",
    "        display(self.points_output)\n",
    "        display(HTML('<h3>Results</h3>'))\n",
    "        display(self.results_output)\n",
    "        display(HTML('<h3>Map</h3>'))\n",
    "        display(self.map)\n",
    "    \n",
    "    def add_point(self, b):\n",
    "        point = {\n",
    "            'lat': self.lat_input.value,\n",
    "            'lng': self.lng_input.value,\n",
    "            'weight': self.weight_input.value\n",
    "        }\n",
    "        \n",
    "        self.delivery_points.append(point)\n",
    "        \n",
    "        # Add marker to map\n",
    "        marker = Marker(location=(point['lat'], point['lng']))\n",
    "        self.map.add_layer(marker)\n",
    "        \n",
    "        # Update points list\n",
    "        with self.points_output:\n",
    "            clear_output()\n",
    "            for i, p in enumerate(self.delivery_points):\n",
    "                print(f\"Point {i+1}: ({p['lat']}, {p['lng']}) - {p['weight']}kg\")\n",
    "        \n",
    "        # Clear inputs\n",
    "        self.lat_input.value = 0.0\n",
    "        self.lng_input.value = 0.0\n",
    "        self.weight_input.value = 0.0\n",
    "    \n",
    "    def optimize_routes(self, b):\n",
    "        if len(self.delivery_points) < 2:\n",
    "            with self.results_output:\n",
    "                clear_output()\n",
    "                print(\"Please add at least 2 delivery points\")\n",
    "            return\n",
    "        \n",
    "        # Convert points to numpy array\n",
    "        points = np.array([[p['lat'], p['lng']] for p in self.delivery_points])\n",
    "        \n",
    "        # Perform clustering\n",
    "        clusters = self.kmeans.fit_predict(points)\n",
    "        \n",
    "        # Group points by cluster\n",
    "        routes = {}\n",
    "        for i, cluster in enumerate(clusters):\n",
    "            if cluster not in routes:\n",
    "                routes[cluster] = []\n",
    "            routes[cluster].append(self.delivery_points[i])\n",
    "        \n",
    "        # Calculate costs and visualize routes\n",
    "        colors = ['red', 'blue', 'green', 'purple', 'orange']\n",
    "        \n",
    "        # Clear previous routes\n",
    "        self.map.clear_layers()\n",
    "        \n",
    "        with self.results_output:\n",
    "            clear_output()\n",
    "            print(\"Optimized Routes:\")\n",
    "            \n",
    "            for cluster_id, points in routes.items():\n",
    "                color = colors[cluster_id % len(colors)]\n",
    "                \n",
    "                # Calculate route cost\n",
    "                total_distance = 0\n",
    "                prev_point = None\n",
    "                coordinates = []\n",
    "                \n",
    "                for point in points:\n",
    "                    coordinates.append((point['lat'], point['lng']))\n",
    "                    if prev_point:\n",
    "                        distance = geodesic(\n",
    "                            (prev_point['lat'], prev_point['lng']),\n",
    "                            (point['lat'], point['lng'])\n",
    "                        ).kilometers\n",
    "                        total_distance += distance\n",
    "                    prev_point = point\n",
    "                    \n",
    "                    # Add marker\n",
    "                    marker = Marker(location=(point['lat'], point['lng']))\n",
    "                    self.map.add_layer(marker)\n",
    "                \n",
    "                # Add route line\n",
    "                line = Polyline(\n",
    "                    locations=coordinates,\n",
    "                    color=color,\n",
    "                    weight=2,\n",
    "                    opacity=0.8\n",
    "                )\n",
    "                self.map.add_layer(line)\n",
    "                \n",
    "                # Calculate cost\n",
    "                cost = total_distance * 2.5  # Example rate\n",
    "                \n",
    "                print(f\"Route {cluster_id + 1}:\")\n",
    "                print(f\"  - Stops: {len(points)}\")\n",
    "                print(f\"  - Distance: {total_distance:.2f} km\")\n",
    "                print(f\"  - Cost: ${cost:.2f}\")\n",
    "                print()\n",
    "    \n",
    "    def clear_all(self, b):\n",
    "        self.delivery_points = []\n",
    "        self.map.clear_layers()\n",
    "        \n",
    "        with self.points_output:\n",
    "            clear_output()\n",
    "        \n",
    "        with self.results_output:\n",
    "            clear_output()"
   ]
  },
  {
   "cell_type": "code",
   "execution_count": 5,
   "metadata": {},
   "outputs": [
    {
     "data": {
      "text/html": [
       "<h3>Add Delivery Points</h3>"
      ],
      "text/plain": [
       "<IPython.core.display.HTML object>"
      ]
     },
     "metadata": {},
     "output_type": "display_data"
    },
    {
     "data": {
      "application/vnd.jupyter.widget-view+json": {
       "model_id": "c27da81ddf8f4256bf02b8478e5ea22d",
       "version_major": 2,
       "version_minor": 0
      },
      "text/plain": [
       "Box(children=(FloatText(value=0.0, description='Latitude:', layout=Layout(width='300px'), style=DescriptionSty…"
      ]
     },
     "metadata": {},
     "output_type": "display_data"
    },
    {
     "data": {
      "text/html": [
       "<h3>Delivery Points</h3>"
      ],
      "text/plain": [
       "<IPython.core.display.HTML object>"
      ]
     },
     "metadata": {},
     "output_type": "display_data"
    },
    {
     "data": {
      "application/vnd.jupyter.widget-view+json": {
       "model_id": "0682f1bb8416430390830ab8336b61c9",
       "version_major": 2,
       "version_minor": 0
      },
      "text/plain": [
       "Output()"
      ]
     },
     "metadata": {},
     "output_type": "display_data"
    },
    {
     "data": {
      "text/html": [
       "<h3>Results</h3>"
      ],
      "text/plain": [
       "<IPython.core.display.HTML object>"
      ]
     },
     "metadata": {},
     "output_type": "display_data"
    },
    {
     "data": {
      "application/vnd.jupyter.widget-view+json": {
       "model_id": "863e83b09ccc4753979835b1cc64b352",
       "version_major": 2,
       "version_minor": 0
      },
      "text/plain": [
       "Output()"
      ]
     },
     "metadata": {},
     "output_type": "display_data"
    },
    {
     "data": {
      "text/html": [
       "<h3>Map</h3>"
      ],
      "text/plain": [
       "<IPython.core.display.HTML object>"
      ]
     },
     "metadata": {},
     "output_type": "display_data"
    },
    {
     "data": {
      "application/vnd.jupyter.widget-view+json": {
       "model_id": "0458eac0464f413d987318b8fa44661a",
       "version_major": 2,
       "version_minor": 0
      },
      "text/plain": [
       "Map(center=[20.5937, 78.9629], controls=(ZoomControl(options=['position', 'zoom_in_text', 'zoom_in_title', 'zo…"
      ]
     },
     "metadata": {},
     "output_type": "display_data"
    }
   ],
   "source": [
    "# Create and display the optimizer\n",
    "optimizer = LogisticsOptimizer()"
   ]
  },
  {
   "cell_type": "markdown",
   "metadata": {},
   "source": [
    "## Sample Usage\n",
    "\n",
    "Try these sample coordinates:\n",
    "\n",
    "1. Mumbai: (19.0760, 72.8777)\n",
    "2. Delhi: (28.6139, 77.2090)\n",
    "3. Bangalore: (12.9716, 77.5946)\n",
    "4. Chennai: (13.0827, 80.2707)\n",
    "5. Hyderabad: (17.3850, 78.4867)"
   ]
  }
 ],
 "metadata": {
  "kernelspec": {
   "display_name": "Python 3 (ipykernel)",
   "language": "python",
   "name": "python3"
  },
  "language_info": {
   "codemirror_mode": {
    "name": "ipython",
    "version": 3
   },
   "file_extension": ".py",
   "mimetype": "text/x-python",
   "name": "python",
   "nbconvert_exporter": "python",
   "pygments_lexer": "ipython3",
   "version": "3.12.8"
  }
 },
 "nbformat": 4,
 "nbformat_minor": 4
}
